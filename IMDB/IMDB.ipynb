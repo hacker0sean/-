{
 "cells": [
  {
   "cell_type": "code",
   "execution_count": 1,
   "metadata": {},
   "outputs": [
    {
     "name": "stderr",
     "output_type": "stream",
     "text": [
      "/home/sean/anaconda3/lib/python3.6/site-packages/h5py/__init__.py:36: FutureWarning: Conversion of the second argument of issubdtype from `float` to `np.floating` is deprecated. In future, it will be treated as `np.float64 == np.dtype(float).type`.\n",
      "  from ._conv import register_converters as _register_converters\n"
     ]
    },
    {
     "name": "stdout",
     "output_type": "stream",
     "text": [
      "1.10.1\n"
     ]
    }
   ],
   "source": [
    "import tensorflow as tf\n",
    "from tensorflow import keras\n",
    "\n",
    "import numpy as np\n",
    "\n",
    "print(tf.__version__)"
   ]
  },
  {
   "cell_type": "code",
   "execution_count": 4,
   "metadata": {},
   "outputs": [],
   "source": [
    "imdb = keras.datasets.imdb\n",
    "\n",
    "(train_data, train_labels), (test_data, test_labels) = imdb.load_data(num_words=10000)"
   ]
  },
  {
   "cell_type": "code",
   "execution_count": 3,
   "metadata": {},
   "outputs": [
    {
     "name": "stdout",
     "output_type": "stream",
     "text": [
      "Downloading data from https://storage.googleapis.com/tensorflow/tf-keras-datasets/imdb_word_index.json\n",
      "1646592/1641221 [==============================] - 4s 3us/step\n"
     ]
    }
   ],
   "source": [
    "word_index = imdb.get_word_index()"
   ]
  },
  {
   "cell_type": "code",
   "execution_count": 12,
   "metadata": {},
   "outputs": [],
   "source": [
    "word_index = {k:(v+3) for k, v in word_index.items()}\n",
    "word_index[\"<PAD>\"] = 0\n",
    "word_index[\"<START>\"] = 1\n",
    "word_index[\"<UNK>\"] = 2  # unknown\n",
    "word_index[\"<UNUSED>\"] = 3\n",
    "\n",
    "reverse_word_index = {v:k for k, v in word_index.items()}\n",
    "def decode_review(text):\n",
    "    return ' '.join([reverse_word_index.get(i, '?') for i in text])"
   ]
  },
  {
   "cell_type": "code",
   "execution_count": 13,
   "metadata": {},
   "outputs": [
    {
     "data": {
      "text/plain": [
       "\"<START> to was br who actress rate shouldn't historical she mother nicholson even synopsis ? director be girl ? with its who leads watch about documentary <UNK> ? he i'd money ? should ? makes watch didn't <UNK> mind stupid at ? makes arrived dancing in obviously all of entertaining ? seems about br ? such sea i to was ? ladies pokemon example ? was story do a br who actress all can is of immediately ? was in flick in a br running it <UNK> ? up start a ? version ? could ? ? president interactions br i'd even laurel his ? know a br all song ? with best it's be your or with aspects his ? was a without film were out ? to keep br much <UNK> ? ? any many btw is girl ? <UNK> ? providing ? miss be story who actress 4 movie terrible audience like ? ? <UNK> success of them also ? next is year don't are keaton there movie say ? got sour it ? almost was that better 4 movie i'd ? why not aim it it's be film isn't first with them ? almost she br all pieces also a br ending ? br wished two make are is br charged i same are\""
      ]
     },
     "execution_count": 13,
     "metadata": {},
     "output_type": "execute_result"
    }
   ],
   "source": [
    "decode_review(train_data[0])"
   ]
  },
  {
   "cell_type": "code",
   "execution_count": 14,
   "metadata": {},
   "outputs": [],
   "source": [
    "train_data = keras.preprocessing.sequence.pad_sequences(train_data,\n",
    "                                                        value=word_index[\"<PAD>\"],\n",
    "                                                        padding='post',\n",
    "                                                        maxlen=256)\n",
    "\n",
    "test_data = keras.preprocessing.sequence.pad_sequences(test_data,\n",
    "                                                       value=word_index[\"<PAD>\"],\n",
    "                                                       padding='post',\n",
    "                                                       maxlen=256)"
   ]
  },
  {
   "cell_type": "code",
   "execution_count": 16,
   "metadata": {},
   "outputs": [
    {
     "data": {
      "text/plain": [
       "\"<START> to was br who actress rate shouldn't historical she mother nicholson even synopsis ? director be girl ? with its who leads watch about documentary <UNK> ? he i'd money ? should ? makes watch didn't <UNK> mind stupid at ? makes arrived dancing in obviously all of entertaining ? seems about br ? such sea i to was ? ladies pokemon example ? was story do a br who actress all can is of immediately ? was in flick in a br running it <UNK> ? up start a ? version ? could ? ? president interactions br i'd even laurel his ? know a br all song ? with best it's be your or with aspects his ? was a without film were out ? to keep br much <UNK> ? ? any many btw is girl ? <UNK> ? providing ? miss be story who actress 4 movie terrible audience like ? ? <UNK> success of them also ? next is year don't are keaton there movie say ? got sour it ? almost was that better 4 movie i'd ? why not aim it it's be film isn't first with them ? almost she br all pieces also a br ending ? br wished two make are is br charged i same are <PAD> <PAD> <PAD> <PAD> <PAD> <PAD> <PAD> <PAD> <PAD> <PAD> <PAD> <PAD> <PAD> <PAD> <PAD> <PAD> <PAD> <PAD> <PAD> <PAD> <PAD> <PAD> <PAD> <PAD> <PAD> <PAD> <PAD> <PAD> <PAD> <PAD> <PAD> <PAD> <PAD> <PAD> <PAD> <PAD> <PAD> <PAD>\""
      ]
     },
     "execution_count": 16,
     "metadata": {},
     "output_type": "execute_result"
    }
   ],
   "source": [
    "decode_review(train_data[0])"
   ]
  },
  {
   "cell_type": "code",
   "execution_count": 17,
   "metadata": {},
   "outputs": [
    {
     "name": "stdout",
     "output_type": "stream",
     "text": [
      "_________________________________________________________________\n",
      "Layer (type)                 Output Shape              Param #   \n",
      "=================================================================\n",
      "embedding (Embedding)        (None, None, 16)          160000    \n",
      "_________________________________________________________________\n",
      "global_average_pooling1d (Gl (None, 16)                0         \n",
      "_________________________________________________________________\n",
      "dense (Dense)                (None, 16)                272       \n",
      "_________________________________________________________________\n",
      "dense_1 (Dense)              (None, 1)                 17        \n",
      "=================================================================\n",
      "Total params: 160,289\n",
      "Trainable params: 160,289\n",
      "Non-trainable params: 0\n",
      "_________________________________________________________________\n"
     ]
    }
   ],
   "source": [
    "vocab_size = 10000\n",
    "\n",
    "model = keras.Sequential()\n",
    "model.add(keras.layers.Embedding(vocab_size, 16))\n",
    "model.add(keras.layers.GlobalAveragePooling1D())\n",
    "model.add(keras.layers.Dense(16, activation=tf.nn.relu))\n",
    "model.add(keras.layers.Dense(1, activation=tf.nn.sigmoid))\n",
    "\n",
    "model.summary()"
   ]
  },
  {
   "cell_type": "code",
   "execution_count": 18,
   "metadata": {},
   "outputs": [],
   "source": [
    "model.compile(optimizer=tf.train.AdamOptimizer(),\n",
    "              loss='binary_crossentropy',\n",
    "              metrics=['accuracy'])"
   ]
  },
  {
   "cell_type": "code",
   "execution_count": 19,
   "metadata": {},
   "outputs": [],
   "source": [
    "x_val = train_data[:10000]\n",
    "partial_x_train = train_data[10000:]\n",
    "\n",
    "y_val = train_labels[:10000]\n",
    "partial_y_train = train_labels[10000:]"
   ]
  },
  {
   "cell_type": "code",
   "execution_count": 20,
   "metadata": {},
   "outputs": [
    {
     "name": "stdout",
     "output_type": "stream",
     "text": [
      "Train on 15000 samples, validate on 10000 samples\n",
      "Epoch 1/40\n",
      "15000/15000 [==============================] - 1s 81us/step - loss: 0.6937 - acc: 0.5097 - val_loss: 0.6916 - val_acc: 0.5675\n",
      "Epoch 2/40\n",
      "15000/15000 [==============================] - 1s 38us/step - loss: 0.6902 - acc: 0.5623 - val_loss: 0.6887 - val_acc: 0.6248\n",
      "Epoch 3/40\n",
      "15000/15000 [==============================] - 1s 38us/step - loss: 0.6869 - acc: 0.6123 - val_loss: 0.6860 - val_acc: 0.5729\n",
      "Epoch 4/40\n",
      "15000/15000 [==============================] - 1s 41us/step - loss: 0.6831 - acc: 0.6648 - val_loss: 0.6827 - val_acc: 0.5375\n",
      "Epoch 5/40\n",
      "15000/15000 [==============================] - 1s 40us/step - loss: 0.6784 - acc: 0.6775 - val_loss: 0.6766 - val_acc: 0.7326\n",
      "Epoch 6/40\n",
      "15000/15000 [==============================] - 1s 44us/step - loss: 0.6717 - acc: 0.7453 - val_loss: 0.6695 - val_acc: 0.7430\n",
      "Epoch 7/40\n",
      "15000/15000 [==============================] - 1s 36us/step - loss: 0.6623 - acc: 0.7563 - val_loss: 0.6566 - val_acc: 0.7517\n",
      "Epoch 8/40\n",
      "15000/15000 [==============================] - 1s 45us/step - loss: 0.6422 - acc: 0.7611 - val_loss: 0.6376 - val_acc: 0.7454\n",
      "Epoch 9/40\n",
      "15000/15000 [==============================] - 1s 39us/step - loss: 0.6214 - acc: 0.7785 - val_loss: 0.6166 - val_acc: 0.7706\n",
      "Epoch 10/40\n",
      "15000/15000 [==============================] - 1s 43us/step - loss: 0.5971 - acc: 0.7894 - val_loss: 0.5934 - val_acc: 0.7786\n",
      "Epoch 11/40\n",
      "15000/15000 [==============================] - 1s 42us/step - loss: 0.5707 - acc: 0.7916 - val_loss: 0.5707 - val_acc: 0.7808\n",
      "Epoch 12/40\n",
      "15000/15000 [==============================] - 1s 43us/step - loss: 0.5430 - acc: 0.8057 - val_loss: 0.5433 - val_acc: 0.7951\n",
      "Epoch 13/40\n",
      "15000/15000 [==============================] - 1s 41us/step - loss: 0.5139 - acc: 0.8201 - val_loss: 0.5185 - val_acc: 0.8057\n",
      "Epoch 14/40\n",
      "15000/15000 [==============================] - 1s 36us/step - loss: 0.4862 - acc: 0.8312 - val_loss: 0.4937 - val_acc: 0.8144\n",
      "Epoch 15/40\n",
      "15000/15000 [==============================] - 1s 35us/step - loss: 0.4593 - acc: 0.8386 - val_loss: 0.4699 - val_acc: 0.8205\n",
      "Epoch 16/40\n",
      "15000/15000 [==============================] - 1s 34us/step - loss: 0.4345 - acc: 0.8475 - val_loss: 0.4486 - val_acc: 0.8315\n",
      "Epoch 17/40\n",
      "15000/15000 [==============================] - 1s 36us/step - loss: 0.4103 - acc: 0.8579 - val_loss: 0.4294 - val_acc: 0.8399\n",
      "Epoch 18/40\n",
      "15000/15000 [==============================] - 1s 34us/step - loss: 0.3889 - acc: 0.8646 - val_loss: 0.4114 - val_acc: 0.8461\n",
      "Epoch 19/40\n",
      "15000/15000 [==============================] - 1s 34us/step - loss: 0.3696 - acc: 0.8733 - val_loss: 0.3959 - val_acc: 0.8509\n",
      "Epoch 20/40\n",
      "15000/15000 [==============================] - 1s 34us/step - loss: 0.3522 - acc: 0.8783 - val_loss: 0.3825 - val_acc: 0.8562\n",
      "Epoch 21/40\n",
      "15000/15000 [==============================] - 1s 34us/step - loss: 0.3363 - acc: 0.8840 - val_loss: 0.3705 - val_acc: 0.8587\n",
      "Epoch 22/40\n",
      "15000/15000 [==============================] - 1s 44us/step - loss: 0.3221 - acc: 0.8868 - val_loss: 0.3602 - val_acc: 0.8626\n",
      "Epoch 23/40\n",
      "15000/15000 [==============================] - 1s 35us/step - loss: 0.3095 - acc: 0.8905 - val_loss: 0.3515 - val_acc: 0.8645\n",
      "Epoch 24/40\n",
      "15000/15000 [==============================] - 1s 34us/step - loss: 0.2976 - acc: 0.8961 - val_loss: 0.3431 - val_acc: 0.8675\n",
      "Epoch 25/40\n",
      "15000/15000 [==============================] - 1s 39us/step - loss: 0.2869 - acc: 0.8995 - val_loss: 0.3361 - val_acc: 0.8694\n",
      "Epoch 26/40\n",
      "15000/15000 [==============================] - 1s 34us/step - loss: 0.2769 - acc: 0.9014 - val_loss: 0.3300 - val_acc: 0.8711\n",
      "Epoch 27/40\n",
      "15000/15000 [==============================] - 1s 44us/step - loss: 0.2681 - acc: 0.9031 - val_loss: 0.3245 - val_acc: 0.8724\n",
      "Epoch 28/40\n",
      "15000/15000 [==============================] - 1s 38us/step - loss: 0.2593 - acc: 0.9068 - val_loss: 0.3195 - val_acc: 0.8746\n",
      "Epoch 29/40\n",
      "15000/15000 [==============================] - 1s 43us/step - loss: 0.2514 - acc: 0.9104 - val_loss: 0.3153 - val_acc: 0.8754\n",
      "Epoch 30/40\n",
      "15000/15000 [==============================] - 1s 44us/step - loss: 0.2447 - acc: 0.9117 - val_loss: 0.3114 - val_acc: 0.8767\n",
      "Epoch 31/40\n",
      "15000/15000 [==============================] - 1s 43us/step - loss: 0.2369 - acc: 0.9154 - val_loss: 0.3082 - val_acc: 0.8773\n",
      "Epoch 32/40\n",
      "15000/15000 [==============================] - 1s 47us/step - loss: 0.2308 - acc: 0.9171 - val_loss: 0.3052 - val_acc: 0.8789\n",
      "Epoch 33/40\n",
      "15000/15000 [==============================] - 1s 40us/step - loss: 0.2239 - acc: 0.9195 - val_loss: 0.3025 - val_acc: 0.8795\n",
      "Epoch 34/40\n",
      "15000/15000 [==============================] - 1s 41us/step - loss: 0.2180 - acc: 0.9228 - val_loss: 0.3003 - val_acc: 0.8800\n",
      "Epoch 35/40\n",
      "15000/15000 [==============================] - 1s 42us/step - loss: 0.2128 - acc: 0.9244 - val_loss: 0.2981 - val_acc: 0.8809\n",
      "Epoch 36/40\n",
      "15000/15000 [==============================] - 1s 41us/step - loss: 0.2067 - acc: 0.9260 - val_loss: 0.2965 - val_acc: 0.8806\n",
      "Epoch 37/40\n",
      "15000/15000 [==============================] - 1s 41us/step - loss: 0.2015 - acc: 0.9287 - val_loss: 0.2949 - val_acc: 0.8808\n",
      "Epoch 38/40\n",
      "15000/15000 [==============================] - 1s 42us/step - loss: 0.1967 - acc: 0.9295 - val_loss: 0.2931 - val_acc: 0.8823\n",
      "Epoch 39/40\n",
      "15000/15000 [==============================] - 1s 41us/step - loss: 0.1914 - acc: 0.9335 - val_loss: 0.2920 - val_acc: 0.8834\n",
      "Epoch 40/40\n",
      "15000/15000 [==============================] - 1s 40us/step - loss: 0.1868 - acc: 0.9356 - val_loss: 0.2908 - val_acc: 0.8833\n"
     ]
    }
   ],
   "source": [
    "history = model.fit(partial_x_train,\n",
    "                    partial_y_train,\n",
    "                    epochs=40,\n",
    "                    batch_size=512,\n",
    "                    validation_data=(x_val, y_val),\n",
    "                    verbose=1)"
   ]
  },
  {
   "cell_type": "code",
   "execution_count": 21,
   "metadata": {},
   "outputs": [
    {
     "name": "stdout",
     "output_type": "stream",
     "text": [
      "25000/25000 [==============================] - 0s 17us/step\n",
      "[0.30553158888816834, 0.87468]\n"
     ]
    }
   ],
   "source": [
    "results = model.evaluate(test_data, test_labels)\n",
    "\n",
    "print(results)"
   ]
  },
  {
   "cell_type": "code",
   "execution_count": 25,
   "metadata": {},
   "outputs": [
    {
     "data": {
      "image/png": "[encoded data removed]",
      "text/plain": [
       "<matplotlib.figure.Figure at 0x7f60dab86390>"
      ]
     },
     "metadata": {},
     "output_type": "display_data"
    }
   ],
   "source": [
    "history_dict = history.history\n",
    "import matplotlib.pyplot as plt\n",
    "%matplotlib inline\n",
    "\n",
    "acc = history.history['acc']\n",
    "val_acc = history.history['val_acc']\n",
    "loss = history.history['loss']\n",
    "val_loss = history.history['val_loss']\n",
    "\n",
    "epochs = range(1, len(acc) + 1)\n",
    "\n",
    "# \"bo\" is for \"blue dot\"\n",
    "plt.plot(epochs, loss, 'bo', label='Training loss')\n",
    "# b is for \"solid blue line\"\n",
    "plt.plot(epochs, val_loss, 'b', label='Validation loss')\n",
    "plt.title('Training and validation loss')\n",
    "plt.xlabel('Epochs')\n",
    "plt.ylabel('Loss')\n",
    "plt.legend()\n",
    "\n",
    "plt.show()\n"
   ]
  },
  {
   "cell_type": "code",
   "execution_count": 26,
   "metadata": {},
   "outputs": [
    {
     "data": {
      "image/png": "[encoded data removed]",
      "text/plain": [
       "<matplotlib.figure.Figure at 0x7f60dcc71668>"
      ]
     },
     "metadata": {},
     "output_type": "display_data"
    }
   ],
   "source": [
    "plt.clf()   # clear figure\n",
    "acc_values = history_dict['acc']\n",
    "val_acc_values = history_dict['val_acc']\n",
    "\n",
    "plt.plot(epochs, acc, 'bo', label='Training acc')\n",
    "plt.plot(epochs, val_acc, 'b', label='Validation acc')\n",
    "plt.title('Training and validation accuracy')\n",
    "plt.xlabel('Epochs')\n",
    "plt.ylabel('Accuracy')\n",
    "plt.legend()\n",
    "\n",
    "plt.show()"
   ]
  }
 ],
 "metadata": {
  "kernelspec": {
   "display_name": "Python 3",
   "language": "python",
   "name": "python3"
  },
  "language_info": {
   "codemirror_mode": {
    "name": "ipython",
    "version": 3
   },
   "file_extension": ".py",
   "mimetype": "text/x-python",
   "name": "python",
   "nbconvert_exporter": "python",
   "pygments_lexer": "ipython3",
   "version": "3.6.5"
  }
 },
 "nbformat": 4,
 "nbformat_minor": 2
}
