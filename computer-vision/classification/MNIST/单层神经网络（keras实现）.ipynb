{
 "cells": [
  {
   "cell_type": "code",
   "execution_count": 1,
   "metadata": {},
   "outputs": [
    {
     "name": "stderr",
     "output_type": "stream",
     "text": [
      "/home/sean/anaconda3/lib/python3.6/site-packages/h5py/__init__.py:36: FutureWarning: Conversion of the second argument of issubdtype from `float` to `np.floating` is deprecated. In future, it will be treated as `np.float64 == np.dtype(float).type`.\n",
      "  from ._conv import register_converters as _register_converters\n"
     ]
    }
   ],
   "source": [
    "import pandas as pd\n",
    "import numpy as np\n",
    "import tensorflow as tf\n",
    "from sklearn.model_selection import train_test_split\n",
    "import matplotlib.pyplot as plt\n",
    "%matplotlib inline"
   ]
  },
  {
   "cell_type": "markdown",
   "metadata": {},
   "source": [
    "1. 导入数据集"
   ]
  },
  {
   "cell_type": "code",
   "execution_count": 2,
   "metadata": {},
   "outputs": [],
   "source": [
    "train_data = pd.read_csv('train.csv')\n",
    "test_data = pd.read_csv('test.csv')"
   ]
  },
  {
   "cell_type": "markdown",
   "metadata": {},
   "source": [
    "2. 观察图片"
   ]
  },
  {
   "cell_type": "code",
   "execution_count": 3,
   "metadata": {},
   "outputs": [],
   "source": [
    "train_images = np.array(train_data.iloc[:,1:])\n",
    "train_labels = np.array(train_data.iloc[:,0])"
   ]
  },
  {
   "cell_type": "code",
   "execution_count": 4,
   "metadata": {},
   "outputs": [
    {
     "name": "stdout",
     "output_type": "stream",
     "text": [
      "(42000, 784) (42000,)\n"
     ]
    }
   ],
   "source": [
    "print(train_images.shape, train_labels.shape)"
   ]
  },
  {
   "cell_type": "code",
   "execution_count": 5,
   "metadata": {},
   "outputs": [],
   "source": [
    "train_images = train_images.reshape((train_images.shape[0], 28, 28))"
   ]
  },
  {
   "cell_type": "code",
   "execution_count": 6,
   "metadata": {},
   "outputs": [
    {
     "data": {
      "image/png": "[encoded data removed]",
      "text/plain": [
       "<matplotlib.figure.Figure at 0x7fa94ec6ac18>"
      ]
     },
     "metadata": {},
     "output_type": "display_data"
    }
   ],
   "source": [
    "plt.figure(figsize=(10, 10))\n",
    "for i in range(25):\n",
    "    plt.subplot(5, 5, i+1)\n",
    "    plt.imshow(train_images[i], cmap=plt.cm.binary)\n",
    "    plt.xticks([])\n",
    "    plt.yticks([])\n",
    "    plt.grid(False)\n",
    "    plt.xlabel(train_labels[i])"
   ]
  },
  {
   "cell_type": "markdown",
   "metadata": {},
   "source": [
    "3. 提取数据集"
   ]
  },
  {
   "cell_type": "code",
   "execution_count": 7,
   "metadata": {},
   "outputs": [],
   "source": [
    "train_data, validation_data = train_test_split(train_data, test_size = 0.1, shuffle=True)\n",
    "\n",
    "x_train = (train_data.iloc[:,1:].values).astype('float32')\n",
    "y_train = np.array(train_data.iloc[:,0]).astype('float32')\n",
    "x_val = validation_data.iloc[:, 1:].values.astype('float32')\n",
    "y_val = np.array(validation_data.iloc[:,0]).astype('float32')\n",
    "x_test = test_data.iloc[:, :].values.astype('float32')"
   ]
  },
  {
   "cell_type": "code",
   "execution_count": 8,
   "metadata": {},
   "outputs": [
    {
     "data": {
      "text/plain": [
       "(37800, 784)"
      ]
     },
     "execution_count": 8,
     "metadata": {},
     "output_type": "execute_result"
    }
   ],
   "source": [
    "x_train.shape"
   ]
  },
  {
   "cell_type": "markdown",
   "metadata": {},
   "source": [
    "# 下面三步非常重要，将其normalize之后，能极大的降低训练的难度!!!　"
   ]
  },
  {
   "cell_type": "code",
   "execution_count": 9,
   "metadata": {},
   "outputs": [],
   "source": [
    "x_train = x_train / 255.0\n",
    "x_val = x_val / 255.0\n",
    "x_test = x_test / 255.0"
   ]
  },
  {
   "cell_type": "markdown",
   "metadata": {},
   "source": [
    "4. 训练"
   ]
  },
  {
   "cell_type": "code",
   "execution_count": 12,
   "metadata": {},
   "outputs": [
    {
     "name": "stdout",
     "output_type": "stream",
     "text": [
      "Train on 37800 samples, validate on 4200 samples\n",
      "Epoch 1/20\n",
      "37800/37800 [==============================] - 4s 117us/step - loss: 0.4468 - acc: 0.8600 - val_loss: 0.1861 - val_acc: 0.9469\n",
      "Epoch 2/20\n",
      "37800/37800 [==============================] - 4s 111us/step - loss: 0.1945 - acc: 0.9412 - val_loss: 0.1358 - val_acc: 0.9595\n",
      "Epoch 3/20\n",
      "37800/37800 [==============================] - 4s 113us/step - loss: 0.1511 - acc: 0.9542 - val_loss: 0.1187 - val_acc: 0.9648\n",
      "Epoch 4/20\n",
      "37800/37800 [==============================] - 4s 112us/step - loss: 0.1228 - acc: 0.9616 - val_loss: 0.1130 - val_acc: 0.9683\n",
      "Epoch 5/20\n",
      "37800/37800 [==============================] - 4s 114us/step - loss: 0.1105 - acc: 0.9656 - val_loss: 0.1020 - val_acc: 0.9712\n",
      "Epoch 6/20\n",
      "37800/37800 [==============================] - 4s 114us/step - loss: 0.0986 - acc: 0.9685 - val_loss: 0.0953 - val_acc: 0.9721\n",
      "Epoch 7/20\n",
      "37800/37800 [==============================] - 5s 121us/step - loss: 0.0922 - acc: 0.9709 - val_loss: 0.0955 - val_acc: 0.9748\n",
      "Epoch 8/20\n",
      "37800/37800 [==============================] - 5s 120us/step - loss: 0.0834 - acc: 0.9733 - val_loss: 0.0902 - val_acc: 0.9726\n",
      "Epoch 9/20\n",
      "37800/37800 [==============================] - 5s 121us/step - loss: 0.0775 - acc: 0.9748 - val_loss: 0.0955 - val_acc: 0.9745\n",
      "Epoch 10/20\n",
      "37800/37800 [==============================] - 6s 155us/step - loss: 0.0692 - acc: 0.9775 - val_loss: 0.1008 - val_acc: 0.9745\n",
      "Epoch 11/20\n",
      "37800/37800 [==============================] - 5s 126us/step - loss: 0.0689 - acc: 0.9777 - val_loss: 0.0887 - val_acc: 0.9757\n",
      "Epoch 12/20\n",
      "37800/37800 [==============================] - 5s 134us/step - loss: 0.0609 - acc: 0.9812 - val_loss: 0.0979 - val_acc: 0.9762\n",
      "Epoch 13/20\n",
      "37800/37800 [==============================] - 5s 123us/step - loss: 0.0587 - acc: 0.9809 - val_loss: 0.0917 - val_acc: 0.9755\n",
      "Epoch 14/20\n",
      "37800/37800 [==============================] - 5s 123us/step - loss: 0.0574 - acc: 0.9811 - val_loss: 0.0884 - val_acc: 0.9769\n",
      "Epoch 15/20\n",
      "37800/37800 [==============================] - 5s 126us/step - loss: 0.0561 - acc: 0.9819 - val_loss: 0.0913 - val_acc: 0.9776\n",
      "Epoch 16/20\n",
      "37800/37800 [==============================] - 5s 125us/step - loss: 0.0531 - acc: 0.9828 - val_loss: 0.1027 - val_acc: 0.9755\n",
      "Epoch 17/20\n",
      "37800/37800 [==============================] - 5s 127us/step - loss: 0.0511 - acc: 0.9835 - val_loss: 0.0987 - val_acc: 0.9748\n",
      "Epoch 18/20\n",
      "37800/37800 [==============================] - 5s 127us/step - loss: 0.0516 - acc: 0.9833 - val_loss: 0.0995 - val_acc: 0.9752\n",
      "Epoch 19/20\n",
      "37800/37800 [==============================] - 5s 128us/step - loss: 0.0450 - acc: 0.9855 - val_loss: 0.1004 - val_acc: 0.9752\n",
      "Epoch 20/20\n",
      "37800/37800 [==============================] - 5s 127us/step - loss: 0.0477 - acc: 0.9841 - val_loss: 0.0918 - val_acc: 0.9774\n",
      "4200/4200 [==============================] - 0s 50us/step\n",
      "val_acc :  0.9773809523809524\n"
     ]
    }
   ],
   "source": [
    "from tensorflow import keras\n",
    "model = tf.keras.models.Sequential([\n",
    "    tf.keras.layers.Dense(512, activation=tf.nn.relu),\n",
    "    keras.layers.Dropout(0.5),\n",
    "    tf.keras.layers.Dense(256, activation=tf.nn.relu),\n",
    "    keras.layers.Dropout(0.5),\n",
    "    tf.keras.layers.Dense(10, activation=tf.nn.softmax)\n",
    "])\n",
    "\n",
    "model.compile(optimizer='adam',\n",
    "              loss='sparse_categorical_crossentropy',\n",
    "              metrics=['accuracy'])\n",
    "\n",
    "history = model.fit(x_train, y_train, epochs=20, batch_size=100, validation_data=(x_val, y_val), verbose=True)\n",
    "val_loss, val_acc = model.evaluate(x_val, y_val)\n",
    "print(\"val_acc : \", val_acc)"
   ]
  },
  {
   "cell_type": "code",
   "execution_count": 13,
   "metadata": {},
   "outputs": [],
   "source": [
    "history = history.history"
   ]
  },
  {
   "cell_type": "code",
   "execution_count": 14,
   "metadata": {},
   "outputs": [
    {
     "data": {
      "text/plain": [
       "dict_keys(['val_loss', 'val_acc', 'loss', 'acc'])"
      ]
     },
     "execution_count": 14,
     "metadata": {},
     "output_type": "execute_result"
    }
   ],
   "source": [
    "history.keys()"
   ]
  },
  {
   "cell_type": "code",
   "execution_count": 15,
   "metadata": {},
   "outputs": [],
   "source": [
    "acc = history['acc']\n",
    "loss = history['loss']\n",
    "val_acc = history['val_acc']\n",
    "val_loss = history['val_loss']\n",
    "epochs = range(1, len(acc) + 1)"
   ]
  },
  {
   "cell_type": "markdown",
   "metadata": {},
   "source": [
    "作出ａｃｃ和ｌｏｓｓ曲线"
   ]
  },
  {
   "cell_type": "code",
   "execution_count": 16,
   "metadata": {},
   "outputs": [
    {
     "data": {
      "text/plain": [
       "<matplotlib.legend.Legend at 0x7fa8e18043c8>"
      ]
     },
     "execution_count": 16,
     "metadata": {},
     "output_type": "execute_result"
    },
    {
     "data": {
      "image/png": "[encoded data removed]",
      "text/plain": [
       "<matplotlib.figure.Figure at 0x7fa92b9ec630>"
      ]
     },
     "metadata": {},
     "output_type": "display_data"
    }
   ],
   "source": [
    "plt.plot(epochs, acc, 'bo', label='train_acc')\n",
    "plt.plot(epochs, val_acc, 'b', label='val_acc')\n",
    "plt.title(\"Train_acc vs val_acc\")\n",
    "plt.xlabel('epochs')\n",
    "plt.ylabel('acc')\n",
    "plt.legend()"
   ]
  },
  {
   "cell_type": "code",
   "execution_count": 17,
   "metadata": {},
   "outputs": [
    {
     "data": {
      "text/plain": [
       "<matplotlib.legend.Legend at 0x7fa8e189ac18>"
      ]
     },
     "execution_count": 17,
     "metadata": {},
     "output_type": "execute_result"
    },
    {
     "data": {
      "image/png": "[encoded data removed]",
      "text/plain": [
       "<matplotlib.figure.Figure at 0x7fa92ba04978>"
      ]
     },
     "metadata": {},
     "output_type": "display_data"
    }
   ],
   "source": [
    "plt.clf()\n",
    "plt.plot(epochs, loss, 'bo', label='train_loss')\n",
    "plt.plot(epochs, val_loss, 'b', label='val_loss')\n",
    "plt.title(\"Train_loss vs val_loss\")\n",
    "plt.xlabel('epochs')\n",
    "plt.ylabel('loss')\n",
    "plt.legend()"
   ]
  },
  {
   "cell_type": "markdown",
   "metadata": {},
   "source": [
    "预测出结果并保存到　submission.csv"
   ]
  },
  {
   "cell_type": "code",
   "execution_count": 18,
   "metadata": {},
   "outputs": [],
   "source": [
    "predications = np.argmax(model.predict(x_test), 1)\n",
    "result = pd.DataFrame({'ImageId': np.arange(len(predications)) + 1, 'Label': predications})\n",
    "result.to_csv('submission.csv', index=False)"
   ]
  },
  {
   "cell_type": "code",
   "execution_count": 24,
   "metadata": {},
   "outputs": [],
   "source": [
    "#!kaggle competitions submit -c digit-recognizer -f submission.csv -m \"Message\""
   ]
  },
  {
   "cell_type": "markdown",
   "metadata": {},
   "source": [
    "public_score为97.702 下面考虑进一步改进"
   ]
  },
  {
   "cell_type": "markdown",
   "metadata": {},
   "source": [
    "作图画出val上各个置信概率"
   ]
  },
  {
   "cell_type": "code",
   "execution_count": 25,
   "metadata": {},
   "outputs": [],
   "source": [
    "predications = model.predict(x_val)"
   ]
  },
  {
   "cell_type": "code",
   "execution_count": 26,
   "metadata": {},
   "outputs": [],
   "source": [
    "def plot_image(i, predications, images, labels):\n",
    "    predict = predications[i]\n",
    "    x = images[i].reshape((28, 28))\n",
    "    y = int(labels[i])\n",
    "    plt.imshow(x, cmap=plt.cm.binary)\n",
    "    plt.xticks([])\n",
    "    plt.yticks([])\n",
    "    \n",
    "    predict_label = np.argmax(predict)\n",
    "    if predict_label == y:\n",
    "        color = 'black'\n",
    "    else:\n",
    "        color = 'red'\n",
    "    plt.xlabel(\"{} {:2.0f}% ({})\".format(predict_label, 100*np.max(predict), y), color=color)\n",
    "    \n",
    "def plot_value_array(i, predications, labels):\n",
    "    predications_array = predications[i]\n",
    "    plt.xticks([])\n",
    "    plt.yticks([])\n",
    "    thisplot = plt.bar(range(10), predications_array, color=\"#777777\")\n",
    "    \n",
    "    y = int(labels[i])\n",
    "    thisplot[np.argmax(predications_array)].set_color('red')\n",
    "    thisplot[y].set_color('blue')"
   ]
  },
  {
   "cell_type": "code",
   "execution_count": 27,
   "metadata": {},
   "outputs": [
    {
     "data": {
      "image/png": "[encoded data removed]",
      "text/plain": [
       "<matplotlib.figure.Figure at 0x7fa8db1000f0>"
      ]
     },
     "metadata": {},
     "output_type": "display_data"
    }
   ],
   "source": [
    "row_images = 3\n",
    "col_images = 3\n",
    "num_images = row_images * col_images\n",
    "plt.figure(figsize=(2*2*col_images, 2*row_images))\n",
    "for i in range(num_images):\n",
    "    plt.subplot(row_images, 2*col_images, 2*i+1)\n",
    "    plot_image(i, predications, x_val, y_val)\n",
    "    plt.subplot(row_images, 2*col_images, 2*i+2)\n",
    "    plot_value_array(i, predications, y_val)"
   ]
  }
 ],
 "metadata": {
  "kernelspec": {
   "display_name": "Python 3",
   "language": "python",
   "name": "python3"
  },
  "language_info": {
   "codemirror_mode": {
    "name": "ipython",
    "version": 3
   },
   "file_extension": ".py",
   "mimetype": "text/x-python",
   "name": "python",
   "nbconvert_exporter": "python",
   "pygments_lexer": "ipython3",
   "version": "3.6.5"
  }
 },
 "nbformat": 4,
 "nbformat_minor": 2
}
