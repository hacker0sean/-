{
 "cells": [
  {
   "cell_type": "code",
   "execution_count": 1,
   "metadata": {},
   "outputs": [
    {
     "name": "stderr",
     "output_type": "stream",
     "text": [
      "/home/sean/anaconda3/lib/python3.6/site-packages/h5py/__init__.py:36: FutureWarning: Conversion of the second argument of issubdtype from `float` to `np.floating` is deprecated. In future, it will be treated as `np.float64 == np.dtype(float).type`.\n",
      "  from ._conv import register_converters as _register_converters\n"
     ]
    }
   ],
   "source": [
    "import pandas as pd\n",
    "import numpy as np\n",
    "import tensorflow as tf\n",
    "from sklearn.model_selection import train_test_split\n",
    "import matplotlib.pyplot as plt\n",
    "%matplotlib inline"
   ]
  },
  {
   "cell_type": "markdown",
   "metadata": {},
   "source": [
    "1. 导入数据集"
   ]
  },
  {
   "cell_type": "code",
   "execution_count": 2,
   "metadata": {},
   "outputs": [],
   "source": [
    "train_data = pd.read_csv('train.csv')\n",
    "test_data = pd.read_csv('test.csv')"
   ]
  },
  {
   "cell_type": "markdown",
   "metadata": {},
   "source": [
    "2. 观察图片"
   ]
  },
  {
   "cell_type": "code",
   "execution_count": 3,
   "metadata": {},
   "outputs": [],
   "source": [
    "train_images = np.array(train_data.iloc[:,1:])\n",
    "train_labels = np.array(train_data.iloc[:,0])"
   ]
  },
  {
   "cell_type": "code",
   "execution_count": 4,
   "metadata": {},
   "outputs": [
    {
     "name": "stdout",
     "output_type": "stream",
     "text": [
      "(42000, 784) (42000,)\n"
     ]
    }
   ],
   "source": [
    "print(train_images.shape, train_labels.shape)"
   ]
  },
  {
   "cell_type": "code",
   "execution_count": 5,
   "metadata": {},
   "outputs": [],
   "source": [
    "train_images = train_images.reshape((train_images.shape[0], 28, 28))"
   ]
  },
  {
   "cell_type": "code",
   "execution_count": 6,
   "metadata": {},
   "outputs": [
    {
     "data": {
      "image/png": "[encoded data removed]",
      "text/plain": [
       "<matplotlib.figure.Figure at 0x7f37eb0d3978>"
      ]
     },
     "metadata": {},
     "output_type": "display_data"
    }
   ],
   "source": [
    "plt.figure(figsize=(10, 10))\n",
    "for i in range(25):\n",
    "    plt.subplot(5, 5, i+1)\n",
    "    plt.imshow(train_images[i], cmap=plt.cm.binary)\n",
    "    plt.xticks([])\n",
    "    plt.yticks([])\n",
    "    plt.grid(False)\n",
    "    plt.xlabel(train_labels[i])"
   ]
  },
  {
   "cell_type": "markdown",
   "metadata": {},
   "source": [
    "3. 提取数据集"
   ]
  },
  {
   "cell_type": "code",
   "execution_count": 7,
   "metadata": {},
   "outputs": [],
   "source": [
    "train_data, validation_data = train_test_split(train_data, test_size = 0.1, shuffle=True)\n",
    "\n",
    "x_train = (train_data.iloc[:,1:].values).astype('float32')\n",
    "y_train = np.array(train_data.iloc[:,0]).astype('float32')\n",
    "x_val = validation_data.iloc[:, 1:].values.astype('float32')\n",
    "y_val = np.array(validation_data.iloc[:,0]).astype('float32')\n",
    "x_test = test_data.iloc[:, :].values.astype('float32')"
   ]
  },
  {
   "cell_type": "code",
   "execution_count": 8,
   "metadata": {},
   "outputs": [
    {
     "data": {
      "text/plain": [
       "(37800, 784)"
      ]
     },
     "execution_count": 8,
     "metadata": {},
     "output_type": "execute_result"
    }
   ],
   "source": [
    "x_train.shape"
   ]
  },
  {
   "cell_type": "markdown",
   "metadata": {},
   "source": [
    "# 下面三步非常重要，将其normalize之后，能极大的降低训练的难度!!!　"
   ]
  },
  {
   "cell_type": "code",
   "execution_count": 9,
   "metadata": {},
   "outputs": [],
   "source": [
    "x_train = x_train / 255.0\n",
    "x_val = x_val / 255.0\n",
    "x_test = x_test / 255.0"
   ]
  },
  {
   "cell_type": "markdown",
   "metadata": {},
   "source": [
    "4. 训练"
   ]
  },
  {
   "cell_type": "code",
   "execution_count": 10,
   "metadata": {},
   "outputs": [
    {
     "name": "stdout",
     "output_type": "stream",
     "text": [
      "Epoch 1/5\n",
      "37800/37800 [==============================] - 7s 197us/step - loss: 0.2577 - acc: 0.9223\n",
      "Epoch 2/5\n",
      "37800/37800 [==============================] - 8s 209us/step - loss: 0.1158 - acc: 0.9650\n",
      "Epoch 3/5\n",
      "37800/37800 [==============================] - 8s 207us/step - loss: 0.0785 - acc: 0.9756\n",
      "Epoch 4/5\n",
      "37800/37800 [==============================] - 9s 232us/step - loss: 0.0595 - acc: 0.9801\n",
      "Epoch 5/5\n",
      "37800/37800 [==============================] - 8s 209us/step - loss: 0.0452 - acc: 0.9851\n",
      "4200/4200 [==============================] - 0s 41us/step\n",
      "val_acc :  0.9738095238095238\n"
     ]
    }
   ],
   "source": [
    "from tensorflow import keras\n",
    "model = tf.keras.models.Sequential([\n",
    "    tf.keras.layers.Dense(512, activation=tf.nn.relu),\n",
    "    keras.layers.Dropout(0.2),\n",
    "    tf.keras.layers.Dense(10, activation=tf.nn.softmax)\n",
    "])\n",
    "\n",
    "model.compile(optimizer='adam',\n",
    "              loss='sparse_categorical_crossentropy',\n",
    "              metrics=['accuracy'])\n",
    "\n",
    "model.fit(x_train, y_train, epochs=5)\n",
    "val_loss, val_acc = model.evaluate(x_val, y_val)\n",
    "print(\"val_acc : \", val_acc)"
   ]
  },
  {
   "cell_type": "markdown",
   "metadata": {},
   "source": [
    "预测出结果并保存到　submission.csv"
   ]
  },
  {
   "cell_type": "code",
   "execution_count": 11,
   "metadata": {},
   "outputs": [],
   "source": [
    "predications = np.argmax(model.predict(x_test), 1)\n",
    "result = pd.DataFrame({'ImageId': np.arange(len(predications)) + 1, 'Label': predications})\n",
    "result.to_csv('submission.csv', index=False)"
   ]
  },
  {
   "cell_type": "code",
   "execution_count": 12,
   "metadata": {},
   "outputs": [],
   "source": [
    "#!kaggle competitions submit -c digit-recognizer -f submission.csv -m \"Message\""
   ]
  },
  {
   "cell_type": "markdown",
   "metadata": {},
   "source": [
    "public_score为97.702 下面考虑进一步改进"
   ]
  },
  {
   "cell_type": "markdown",
   "metadata": {},
   "source": [
    "作图画出val上各个置信概率"
   ]
  },
  {
   "cell_type": "code",
   "execution_count": 18,
   "metadata": {},
   "outputs": [],
   "source": [
    "predications = model.predict(x_val)"
   ]
  },
  {
   "cell_type": "code",
   "execution_count": 28,
   "metadata": {},
   "outputs": [],
   "source": [
    "def plot_image(i, predications, images, labels):\n",
    "    predict = predications[i]\n",
    "    x = images[i].reshape((28, 28))\n",
    "    y = int(labels[i])\n",
    "    plt.imshow(x, cmap=plt.cm.binary)\n",
    "    plt.xticks([])\n",
    "    plt.yticks([])\n",
    "    \n",
    "    predict_label = np.argmax(predict)\n",
    "    if predict_label == y:\n",
    "        color = 'black'\n",
    "    else:\n",
    "        color = 'red'\n",
    "    plt.xlabel(\"{} {:2.0f}% ({})\".format(predict_label, 100*np.max(predict), y), color=color)\n",
    "    \n",
    "def plot_value_array(i, predications, labels):\n",
    "    predications_array = predications[i]\n",
    "    plt.xticks([])\n",
    "    plt.yticks([])\n",
    "    thisplot = plt.bar(range(10), predications_array, color=\"#777777\")\n",
    "    \n",
    "    y = int(labels[i])\n",
    "    thisplot[np.argmax(predications_array)].set_color('red')\n",
    "    thisplot[y].set_color('blue')"
   ]
  },
  {
   "cell_type": "code",
   "execution_count": 33,
   "metadata": {},
   "outputs": [
    {
     "data": {
      "image/png": "[encoded data removed]",
      "text/plain": [
       "<matplotlib.figure.Figure at 0x7f37e46c97b8>"
      ]
     },
     "metadata": {},
     "output_type": "display_data"
    }
   ],
   "source": [
    "row_images = 3\n",
    "col_images = 3\n",
    "num_images = row_images * col_images\n",
    "plt.figure(figsize=(2*2*col_images, 2*row_images))\n",
    "for i in range(num_images):\n",
    "    plt.subplot(row_images, 2*col_images, 2*i+1)\n",
    "    plot_image(i, predications, x_val, y_val)\n",
    "    plt.subplot(row_images, 2*col_images, 2*i+2)\n",
    "    plot_value_array(i, predications, y_val)"
   ]
  }
 ],
 "metadata": {
  "kernelspec": {
   "display_name": "Python 3",
   "language": "python",
   "name": "python3"
  },
  "language_info": {
   "codemirror_mode": {
    "name": "ipython",
    "version": 3
   },
   "file_extension": ".py",
   "mimetype": "text/x-python",
   "name": "python",
   "nbconvert_exporter": "python",
   "pygments_lexer": "ipython3",
   "version": "3.6.5"
  }
 },
 "nbformat": 4,
 "nbformat_minor": 2
}
